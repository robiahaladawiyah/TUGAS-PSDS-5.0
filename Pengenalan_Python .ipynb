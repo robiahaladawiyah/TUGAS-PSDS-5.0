{
  "nbformat": 4,
  "nbformat_minor": 0,
  "metadata": {
    "colab": {
      "name": "Untitled",
      "provenance": []
    },
    "kernelspec": {
      "name": "python3",
      "display_name": "Python 3"
    },
    "language_info": {
      "name": "python"
    }
  },
  "cells": [
    {
      "cell_type": "markdown",
      "metadata": {
        "id": "psJZrra3FPd_"
      },
      "source": [
        "Pengenalan Python"
      ]
    },
    {
      "cell_type": "markdown",
      "metadata": {
        "id": "wn_pauGdFYzX"
      },
      "source": [
        "Python adalah Bahasa pemrograman tingkat tinggi dengan dynamic semantics , bersifat object oriented, dan interpretatif. Bahasa pemrograman ini fokus dikembangkan pada keterbacaan bahasa pemrograman. \n",
        "1. **Bahasa Pemrograman Tingkat Tinggi(High Level Programming)** Artinya sintaks kode lebih mudah ditafsirkan oleh manusia.\n",
        "2. **Interpretatif** Ini artinya bahasa ini memerlukan intrepeter atau penerjemah. Ini memungkinkan bagi kita untuk menggunakan Bahasa yang \n",
        "lebih mudah kita pahami.\n",
        "3. **Object Oriented** Ini berarti bahwa bahasa pemrograman ini berorientasi kepada objek. Hal ini membuat Python lebih mudah untuk \n",
        "dikembangkan. \n",
        "4. **Dynamic Semantics Python** secara otomatis akan menyesuaikan tipe dari suatu variable berdasarkan inputnya. "
      ]
    },
    {
      "cell_type": "markdown",
      "metadata": {
        "id": "7wf3QdJJFoe-"
      },
      "source": [
        "Mengapa Python? \n",
        "\n"
      ]
    },
    {
      "cell_type": "markdown",
      "metadata": {
        "id": "3wU0rAN6F6Pq"
      },
      "source": [
        "1. Mudah dipahami \n",
        "2. Gratis & Open Source \n",
        "3. Dinamis \n",
        "4. Memiliki Library Terlengkap untuk Data Sains \n"
      ]
    },
    {
      "cell_type": "markdown",
      "metadata": {
        "id": "rBv86uKwGGuZ"
      },
      "source": [
        "Struktur Program Pada Python "
      ]
    },
    {
      "cell_type": "markdown",
      "metadata": {
        "id": "902bM88eGOXe"
      },
      "source": [
        "Python pada umumnya terdiri dari: \n",
        "1. **Statements **"
      ]
    },
    {
      "cell_type": "code",
      "metadata": {
        "colab": {
          "base_uri": "https://localhost:8080/"
        },
        "id": "2OVeLiXZGULR",
        "outputId": "497d60fc-4a8c-4eaa-9a27-91767972b466"
      },
      "source": [
        "print(\"belajar python menyenangkan\")\n",
        "print(\"halo dunia\")"
      ],
      "execution_count": 1,
      "outputs": [
        {
          "output_type": "stream",
          "name": "stdout",
          "text": [
            "belajar python menyenangkan\n",
            "halo dunia\n"
          ]
        }
      ]
    },
    {
      "cell_type": "markdown",
      "metadata": {
        "id": "RTQLilxbG5fM"
      },
      "source": [
        "2. **Variables**"
      ]
    },
    {
      "cell_type": "code",
      "metadata": {
        "id": "SLCr4B6KHBr3"
      },
      "source": [
        "bilangan1 = 5\n",
        "bilangan2 = 10\n",
        "kalimat = \"pejuang data 3\""
      ],
      "execution_count": 3,
      "outputs": []
    },
    {
      "cell_type": "markdown",
      "metadata": {
        "id": "U5kpZ7pFHY0D"
      },
      "source": [
        "3. **Literals**: Simbol-simbol yang dapat kita gunakan untuk mengisi suatu variabel. \n",
        "\n",
        "4. **Operators**: Simbol-simbol yang dapat digunakan untuk mengubah nilai dari satu variabel dengan melibatkan satu atau lebih variabel dan literal. \n"
      ]
    },
    {
      "cell_type": "code",
      "metadata": {
        "colab": {
          "base_uri": "https://localhost:8080/"
        },
        "id": "4gA9TfxJHg8t",
        "outputId": "16804390-4cff-4678-d84a-a41b27fd14c6"
      },
      "source": [
        "bilangan1 + bilangan2"
      ],
      "execution_count": 4,
      "outputs": [
        {
          "output_type": "execute_result",
          "data": {
            "text/plain": [
              "15"
            ]
          },
          "metadata": {},
          "execution_count": 4
        }
      ]
    },
    {
      "cell_type": "markdown",
      "metadata": {
        "id": "0TUQYU34H-aJ"
      },
      "source": [
        "5. **Reserved Words**: Kumpulan kata-kata yang memiliki makna khusus dalam bahasa pemrograman Python. Kata False, return, dan for merupakan contoh \n",
        "dari reserved words.\n",
        "\n",
        "6. **Whitespace**: Pada bahasa Python, spasi dan tab memiliki makna khusus untuk menandai serangkaian blok dalam kode Python. \n",
        "\n",
        "7. **Comments**: Comments merupakan sekumpulan teks yang dituliskan di dalam sebuah program yang tidak akan mempengaruhi hasil dari sebuah program.\n",
        "\n",
        "Terdapat dua jenis comments di dalam Python, yaitu:\n",
        "\n",
        "a. **single line comment (comments dalam satu baris)** seperti pada contoh berikut: \n"
      ]
    },
    {
      "cell_type": "code",
      "metadata": {
        "colab": {
          "base_uri": "https://localhost:8080/"
        },
        "id": "fyR0yfJbILAw",
        "outputId": "547ccca7-1962-4892-cfa3-35c3d2ae3a3b"
      },
      "source": [
        "# Ini adalah comment\n",
        "print (\"belajar python\")"
      ],
      "execution_count": 6,
      "outputs": [
        {
          "output_type": "stream",
          "name": "stdout",
          "text": [
            "belajar python\n"
          ]
        }
      ]
    },
    {
      "cell_type": "markdown",
      "metadata": {
        "id": "woJXLCsJKCNn"
      },
      "source": [
        "b. **multi line comment (comments dalam beberapa baris)** yang dapat dituliskan seperti pada contoh berikut: "
      ]
    },
    {
      "cell_type": "code",
      "metadata": {
        "colab": {
          "base_uri": "https://localhost:8080/"
        },
        "id": "xJywQ_XCKUek",
        "outputId": "a6de7878-3378-4d10-9466-c031501f820c"
      },
      "source": [
        "'''\n",
        "Ini adalah komentar panjang \n",
        "Bisa digunakan untuk memberikan \n",
        "penjelasan panjang pada Sell Kode Python, \n",
        "Misal dokumentasi program, spesifikasi \n",
        "input output atau lainnya \n",
        "'''\n",
        "\n",
        "print('belajar python menyenangkan')"
      ],
      "execution_count": 7,
      "outputs": [
        {
          "output_type": "stream",
          "name": "stdout",
          "text": [
            "belajar python menyenangkan\n"
          ]
        }
      ]
    }
  ]
}